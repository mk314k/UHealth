{
 "cells": [
  {
   "cell_type": "code",
   "execution_count": 13,
   "metadata": {},
   "outputs": [],
   "source": [
    "a=[[1,2],[3,4]]"
   ]
  },
  {
   "cell_type": "code",
   "execution_count": 14,
   "metadata": {},
   "outputs": [],
   "source": [
    "b=a[:]\n",
    "c=[k[:] for k in a]"
   ]
  },
  {
   "cell_type": "code",
   "execution_count": 15,
   "metadata": {},
   "outputs": [],
   "source": [
    "b[1][1]=6\n",
    "c[1][1]=8\n",
    "a[1][1]=7"
   ]
  },
  {
   "cell_type": "code",
   "execution_count": 16,
   "metadata": {},
   "outputs": [
    {
     "data": {
      "text/plain": [
       "([[1, 2], [3, 7]], [[1, 2], [3, 7]], [[1, 2], [3, 8]])"
      ]
     },
     "execution_count": 16,
     "metadata": {},
     "output_type": "execute_result"
    }
   ],
   "source": [
    "a,b,c"
   ]
  },
  {
   "cell_type": "code",
   "execution_count": 3,
   "metadata": {},
   "outputs": [],
   "source": [
    "class ListNode:\n",
    "    def __init__(self,x,l2=None) -> None:\n",
    "        self.value = x\n",
    "        self.next = l2"
   ]
  },
  {
   "cell_type": "code",
   "execution_count": 4,
   "metadata": {},
   "outputs": [],
   "source": [
    "def solution(l1, l2):\n",
    "    h1,h2=l1,l2\n",
    "    result = None\n",
    "    if h1.value<h2.value:\n",
    "        result = ListNode(h1.value)\n",
    "        h1 = h1.next\n",
    "    else:\n",
    "        result = ListNode(h2.value)\n",
    "        h2 = h2.next\n",
    "    r1 = result\n",
    "    while h1!=None or h2!=None:  \n",
    "        if h2==None or (h1!=None and h1.value<h2.value):\n",
    "            r1.next = ListNode(h1.value)\n",
    "            h1 = h1.next\n",
    "        else:\n",
    "            r1.next = ListNode(h2.value)\n",
    "            h2 = h2.next\n",
    "        r1 = r1.next"
   ]
  },
  {
   "cell_type": "code",
   "execution_count": null,
   "metadata": {},
   "outputs": [],
   "source": [
    "l1 = ListNode(1,ListNode(2,ListNode(3)))\n",
    "l2 = ListNode(4,ListNode(5,ListNode(6)))\n"
   ]
  },
  {
   "cell_type": "code",
   "execution_count": 1,
   "metadata": {},
   "outputs": [
    {
     "data": {
      "text/plain": [
       "-4"
      ]
     },
     "execution_count": 1,
     "metadata": {},
     "output_type": "execute_result"
    }
   ],
   "source": [
    "-15//4"
   ]
  },
  {
   "cell_type": "code",
   "execution_count": 2,
   "metadata": {},
   "outputs": [
    {
     "data": {
      "text/plain": [
       "0"
      ]
     },
     "execution_count": 2,
     "metadata": {},
     "output_type": "execute_result"
    }
   ],
   "source": [
    "5//10"
   ]
  },
  {
   "cell_type": "code",
   "execution_count": 9,
   "metadata": {},
   "outputs": [
    {
     "data": {
      "text/plain": [
       "3"
      ]
     },
     "execution_count": 9,
     "metadata": {},
     "output_type": "execute_result"
    }
   ],
   "source": [
    "n=50\n",
    "n.bit_count()"
   ]
  },
  {
   "cell_type": "code",
   "execution_count": 10,
   "metadata": {},
   "outputs": [
    {
     "data": {
      "text/plain": [
       "6"
      ]
     },
     "execution_count": 10,
     "metadata": {},
     "output_type": "execute_result"
    }
   ],
   "source": [
    "n.bit_length()"
   ]
  },
  {
   "cell_type": "code",
   "execution_count": 11,
   "metadata": {},
   "outputs": [
    {
     "data": {
      "text/plain": [
       "(50, 1)"
      ]
     },
     "execution_count": 11,
     "metadata": {},
     "output_type": "execute_result"
    }
   ],
   "source": [
    "n.as_integer_ratio()"
   ]
  },
  {
   "cell_type": "code",
   "execution_count": 3,
   "metadata": {},
   "outputs": [],
   "source": [
    "x=10"
   ]
  },
  {
   "cell_type": "code",
   "execution_count": 11,
   "metadata": {},
   "outputs": [
    {
     "ename": "AttributeError",
     "evalue": "'str' object has no attribute 'as_integer'",
     "output_type": "error",
     "traceback": [
      "\u001b[0;31m---------------------------------------------------------------------------\u001b[0m",
      "\u001b[0;31mAttributeError\u001b[0m                            Traceback (most recent call last)",
      "\u001b[1;32m/Users/kartikeshmishra/Kartikesh/hackMIT22/UHealth/prototype/test.ipynb Cell 14\u001b[0m in \u001b[0;36m<cell line: 2>\u001b[0;34m()\u001b[0m\n\u001b[1;32m      <a href='vscode-notebook-cell:/Users/kartikeshmishra/Kartikesh/hackMIT22/UHealth/prototype/test.ipynb#X16sZmlsZQ%3D%3D?line=0'>1</a>\u001b[0m n\u001b[39m=\u001b[39m\u001b[39m\"\u001b[39m\u001b[39m1234567890\u001b[39m\u001b[39m\"\u001b[39m\n\u001b[0;32m----> <a href='vscode-notebook-cell:/Users/kartikeshmishra/Kartikesh/hackMIT22/UHealth/prototype/test.ipynb#X16sZmlsZQ%3D%3D?line=1'>2</a>\u001b[0m n\u001b[39m.\u001b[39;49mas_integer()\n",
      "\u001b[0;31mAttributeError\u001b[0m: 'str' object has no attribute 'as_integer'"
     ]
    }
   ],
   "source": [
    "n=\"1234567890\"\n",
    "n.as_integer()"
   ]
  },
  {
   "cell_type": "code",
   "execution_count": 5,
   "metadata": {},
   "outputs": [],
   "source": [
    "def flatten(L):\n",
    "    if not isinstance(L, list):\n",
    "        return [L]\n",
    "    result =[]\n",
    "    for x in L:\n",
    "        for y in flatten(x):\n",
    "            result.append(y)\n",
    "    return result"
   ]
  },
  {
   "cell_type": "code",
   "execution_count": 7,
   "metadata": {},
   "outputs": [],
   "source": [
    "def factorial(n):\n",
    "    if n==1:\n",
    "        return 1\n",
    "    return n*factorial(n-1)"
   ]
  },
  {
   "cell_type": "code",
   "execution_count": 8,
   "metadata": {},
   "outputs": [
    {
     "data": {
      "text/plain": [
       "120"
      ]
     },
     "execution_count": 8,
     "metadata": {},
     "output_type": "execute_result"
    }
   ],
   "source": [
    "factorial(5)"
   ]
  },
  {
   "cell_type": "code",
   "execution_count": 20,
   "metadata": {},
   "outputs": [
    {
     "data": {
      "text/plain": [
       "'0xc2'"
      ]
     },
     "execution_count": 20,
     "metadata": {},
     "output_type": "execute_result"
    }
   ],
   "source": [
    "n='1234'\n",
    "hex(int(n,5))"
   ]
  },
  {
   "cell_type": "code",
   "execution_count": 71,
   "metadata": {},
   "outputs": [
    {
     "data": {
      "text/plain": [
       "'def m e gaDifficu ltFun ction(x):'"
      ]
     },
     "execution_count": 71,
     "metadata": {},
     "output_type": "execute_result"
    }
   ],
   "source": [
    "code =\"def      m   e  gaDifficu     ltFun        ction(x):   \"\n",
    "lst = code.split()\n",
    "' '.join(lst)"
   ]
  },
  {
   "cell_type": "code",
   "execution_count": 72,
   "metadata": {},
   "outputs": [
    {
     "data": {
      "text/plain": [
       "['def', 'm', 'e', 'gaDifficu', 'ltFun', 'ction(x):']"
      ]
     },
     "execution_count": 72,
     "metadata": {},
     "output_type": "execute_result"
    }
   ],
   "source": [
    "lst"
   ]
  },
  {
   "cell_type": "code",
   "execution_count": 31,
   "metadata": {},
   "outputs": [],
   "source": [
    "def queryMap(queryType,query):\n",
    "    dict_map = {'keyAdd':0, 'valueAdd':0, 'table':{}, 'isEmpty':True}\n",
    "    result = 0\n",
    "    for qtype, qarg in zip(queryType,query):\n",
    "        if (qtype == 'insert'):\n",
    "            dict_map['table'][qarg[0] - dict_map['keyAdd']] = qarg[1] - dict_map['valueAdd']\n",
    "            dict_map['isEmpty'] = False\n",
    "        elif (qtype == 'get'):\n",
    "            result += dict_map['table'][qarg[0] - dict_map['keyAdd']] + dict_map['valueAdd']\n",
    "        elif (qtype == 'addKey' and not dict_map['isEmpty']):\n",
    "            dict_map['keyAdd'] +=qarg[0]\n",
    "        elif (qtype == 'addValue' and not dict_map['isEmpty']):\n",
    "            dict_map['valueAdd'] +=qarg[0]\n",
    "        print(dict_map, result)\n",
    "    return result\n",
    "\n"
   ]
  },
  {
   "cell_type": "code",
   "execution_count": 32,
   "metadata": {},
   "outputs": [
    {
     "name": "stdout",
     "output_type": "stream",
     "text": [
      "{'keyAdd': 0, 'valueAdd': 0, 'table': {}, 'isEmpty': True} 0\n",
      "{'keyAdd': 0, 'valueAdd': 0, 'table': {}, 'isEmpty': True} 0\n",
      "{'keyAdd': 0, 'valueAdd': 0, 'table': {32: -42}, 'isEmpty': False} 0\n",
      "{'keyAdd': 0, 'valueAdd': 19, 'table': {32: -42}, 'isEmpty': False} 0\n",
      "{'keyAdd': -45, 'valueAdd': 19, 'table': {32: -42}, 'isEmpty': False} 0\n",
      "{'keyAdd': -45, 'valueAdd': 19, 'table': {32: -42}, 'isEmpty': False} -23\n",
      "{'keyAdd': -45, 'valueAdd': 19, 'table': {32: -42, 74: -48}, 'isEmpty': False} -23\n",
      "{'keyAdd': -45, 'valueAdd': -31, 'table': {32: -42, 74: -48}, 'isEmpty': False} -23\n",
      "{'keyAdd': -45, 'valueAdd': 9, 'table': {32: -42, 74: -48}, 'isEmpty': False} -23\n",
      "{'keyAdd': -45, 'valueAdd': 9, 'table': {32: -42, 74: -48}, 'isEmpty': False} -56\n",
      "{'keyAdd': -45, 'valueAdd': 9, 'table': {32: -42, 74: -48, 84: -20}, 'isEmpty': False} -56\n",
      "{'keyAdd': -92, 'valueAdd': 9, 'table': {32: -42, 74: -48, 84: -20}, 'isEmpty': False} -56\n",
      "{'keyAdd': -92, 'valueAdd': 9, 'table': {32: -42, 74: -48, 84: -20}, 'isEmpty': False} -89\n",
      "{'keyAdd': -92, 'valueAdd': 9, 'table': {32: -42, 74: -48, 84: -20, 93: -8}, 'isEmpty': False} -89\n",
      "{'keyAdd': -90, 'valueAdd': 9, 'table': {32: -42, 74: -48, 84: -20, 93: -8}, 'isEmpty': False} -89\n",
      "{'keyAdd': -90, 'valueAdd': 9, 'table': {32: -42, 74: -48, 84: -20, 93: -8}, 'isEmpty': False} -100\n"
     ]
    },
    {
     "data": {
      "text/plain": [
       "-100"
      ]
     },
     "execution_count": 32,
     "metadata": {},
     "output_type": "execute_result"
    }
   ],
   "source": [
    "queryType =['addKey','addValue','insert','addValue','addKey','get','insert','addValue','addValue','get','insert','addKey','get','insert','addKey','get']\n",
    "query = [[32],        [-4],     [32,-42], [19],      [-45],  [-13], [29,-29],  [-50],    [40],      [-13],[39,-11], [-47], [-60],  [1,1],   [2],   [-6]]\n",
    "queryMap(queryType,query)"
   ]
  },
  {
   "cell_type": "code",
   "execution_count": null,
   "metadata": {},
   "outputs": [],
   "source": []
  }
 ],
 "metadata": {
  "kernelspec": {
   "display_name": "Python 3.10.5 64-bit",
   "language": "python",
   "name": "python3"
  },
  "language_info": {
   "codemirror_mode": {
    "name": "ipython",
    "version": 3
   },
   "file_extension": ".py",
   "mimetype": "text/x-python",
   "name": "python",
   "nbconvert_exporter": "python",
   "pygments_lexer": "ipython3",
   "version": "3.10.5"
  },
  "orig_nbformat": 4,
  "vscode": {
   "interpreter": {
    "hash": "aee8b7b246df8f9039afb4144a1f6fd8d2ca17a180786b69acc140d282b71a49"
   }
  }
 },
 "nbformat": 4,
 "nbformat_minor": 2
}
